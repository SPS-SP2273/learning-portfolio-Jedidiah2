{
 "cells": [
  {
   "cell_type": "markdown",
   "id": "123456",
   "metadata": {},
   "source": [
    "<div style=\"text-align:left;font-size:2em\"><span style=\"font-weight:bolder;font-size:1.25em\">SP2273 | Learning Portfolio</span><br><br><span style=\"font-weight:bold;color:darkred\">Storing Data (Good)</span></div>"
   ]
  },
  {
   "cell_type": "markdown",
   "id": "c2835a44",
   "metadata": {},
   "source": [
    "## 1 Subsetting: Indexing and Slicing"
   ]
  },
  {
   "cell_type": "markdown",
   "id": "9b079657",
   "metadata": {},
   "source": [
    "### 1.1 Indexing & Slicing 1D (Lists & Arrays)"
   ]
  },
  {
   "cell_type": "code",
   "execution_count": 14,
   "id": "26f88930",
   "metadata": {},
   "outputs": [
    {
     "name": "stdout",
     "output_type": "stream",
     "text": [
      "a1\n",
      "j10\n",
      "['a1' 'b2' 'c3']\n",
      "['b2' 'c3' 'd4' 'e5' 'f6']\n",
      "['b2' 'd4' 'f6']\n",
      "['f6' 'g7' 'h8' 'i9' 'j10']\n",
      "['a1' 'b2' 'c3' 'd4' 'e5']\n",
      "['f6' 'e5' 'd4']\n",
      "['j10' 'i9' 'h8' 'g7' 'f6' 'e5' 'd4' 'c3' 'b2' 'a1']\n",
      "['j10' 'f6' 'b2']\n"
     ]
    }
   ],
   "source": [
    "import numpy as np\n",
    "\n",
    "py_list=[\"a1\", \"b2\", \"c3\", \"d4\", \"e5\",\n",
    "         \"f6\", \"g7\", \"h8\", \"i9\", \"j10\"]\n",
    "\n",
    "np_array=np.array(py_list)\n",
    "\n",
    "x = np_array\n",
    "\n",
    "print(x[0])\n",
    "print(x[-1])\n",
    "print(x[0:3])       # 3 - 0 = 3, so 3 values given\n",
    "print(x[1:6])       # 6 - 1 = 5, so 5 values given\n",
    "print(x[1:6:2])     # :2 means in steps of two (gives every other value)\n",
    "print(x[5:])        # len(x) - 5 = 5, so 5 elements (gives to end)\n",
    "print(x[:5])        # leaving first variable out means 0\n",
    "print(x[5:2:-1])    # 5 - 2 = 3, so gives 3 values starting from index 5 backwards (-1)\n",
    "print(x[::-1])      # reverses the list\n",
    "print(x[::-4])"
   ]
  },
  {
   "cell_type": "markdown",
   "id": "02764c65",
   "metadata": {},
   "source": [
    "### 1.2 Subsetting by masking (Arrays only)"
   ]
  },
  {
   "cell_type": "code",
   "execution_count": 33,
   "id": "5c049ded",
   "metadata": {},
   "outputs": [
    {
     "name": "stdout",
     "output_type": "stream",
     "text": [
      "[False False False  True  True  True  True  True  True  True]\n",
      "[ 4  5  6  7  8  9 10]\n",
      "[1 2 3 4 5]\n",
      "[1 2 3]\n",
      "[4 5 6 7]\n",
      "[ 1  2  9 10]\n",
      "[ 6  7  9 10]\n"
     ]
    }
   ],
   "source": [
    "np_array = np.array([1, 2, 3, 4, 5, 6, 7, 8, 9, 10])\n",
    "\n",
    "my_mask = np_array > 3         # change items > 3 to true\n",
    "print(my_mask)\n",
    "print(np_array[my_mask])       # overlays np_array with my_mask and print all true values\n",
    "\n",
    "print(np_array[np_array <= 5])\n",
    "print(np_array[~(np_array > 3)])                       # '~' means 'NOT'\n",
    "print(np_array[(np_array > 3) & (np_array < 8)])       # '&' means 'AND'\n",
    "print(np_array[(np_array < 3) | (np_array > 8)])       # '|' means 'OR'\n",
    "print(np_array[(np_array >= 6) & ~(np_array == 8)])"
   ]
  },
  {
   "cell_type": "markdown",
   "id": "71184454",
   "metadata": {},
   "source": [
    "### 1.3 Indexing & Slicing 2D Lists"
   ]
  },
  {
   "cell_type": "code",
   "execution_count": 47,
   "id": "e5144f06",
   "metadata": {},
   "outputs": [
    {
     "name": "stdout",
     "output_type": "stream",
     "text": [
      "[4, 'D']\n",
      "4\n",
      "[[1, 'A'], [2, 'B'], [3, 'C']]\n",
      "[1, 'A']\n",
      "[5, 'E']\n"
     ]
    }
   ],
   "source": [
    "py_list_2d = [[1, \"A\"], [2, \"B\"], [3, \"C\"], [4, \"D\"],\n",
    "              [5, \"E\"], [6, \"F\"], [7, \"G\"], [8, \"H\"],\n",
    "              [9, \"I\"], [10, \"J\"]]\n",
    "\n",
    "print(py_list_2d[3])        # What is at position 4 (index 3)?\n",
    "print(py_list_2d[3][0])     # FIRST element at position 4 (index 3)\n",
    "print(py_list_2d[:3])\n",
    "print(py_list_2d[:3][0])\n",
    "print(py_list_2d[3:6][1])"
   ]
  },
  {
   "cell_type": "markdown",
   "id": "cb18968b",
   "metadata": {},
   "source": [
    "### 1.4 Indexing & Slicing 2D Arrays"
   ]
  },
  {
   "cell_type": "code",
   "execution_count": 82,
   "id": "13b64658",
   "metadata": {},
   "outputs": [
    {
     "name": "stdout",
     "output_type": "stream",
     "text": [
      "['4' 'D']\n",
      "4\n",
      "[['1' 'A']\n",
      " ['2' 'B']\n",
      " ['3' 'C']]\n",
      "['A' 'B' 'C']\n",
      "['4' '5' '6']\n",
      "['1' '2' '3' '4' '5' '6' '7' '8' '9' '10']\n"
     ]
    },
    {
     "data": {
      "text/plain": [
       "array([['26', 'Z'],\n",
       "       ['2', 'B'],\n",
       "       ['3', 'C'],\n",
       "       ['4', 'D'],\n",
       "       ['5', 'E'],\n",
       "       ['6', 'F'],\n",
       "       ['7', 'G'],\n",
       "       ['8', 'H'],\n",
       "       ['9', 'I'],\n",
       "       ['10', 'J']], dtype='<U11')"
      ]
     },
     "execution_count": 82,
     "metadata": {},
     "output_type": "execute_result"
    }
   ],
   "source": [
    "np_array_2d = np.array([[1, \"A\"], [2, \"B\"], [3, \"C\"], [4, \"D\"],\n",
    "                        [5, \"E\"], [6, \"F\"], [7, \"G\"], [8, \"H\"],\n",
    "                        [9, \"I\"], [10, \"J\"]])\n",
    "\n",
    "print(np_array_2d[3])       # What is at position 4 (index 3)?\n",
    "print(np_array_2d[3, 0])    # FIRST element at position 4 (index 3), use one pair of []\n",
    "print(np_array_2d[:3])\n",
    "print(np_array_2d[:3, 1])\n",
    "print(np_array_2d[3:6, 0])\n",
    "print(np_array_2d[:, 0])    # use just : for everything\n",
    "\n",
    "np_array_2d[0]=[26,\"Z\"]\n",
    "np_array_2d"
   ]
  },
  {
   "cell_type": "markdown",
   "id": "e89baafc",
   "metadata": {},
   "source": [
    "### 1.5 Growing lists"
   ]
  },
  {
   "cell_type": "code",
   "execution_count": 61,
   "id": "3234a9ed",
   "metadata": {},
   "outputs": [
    {
     "data": {
      "text/plain": [
       "[1, 1, 1, 1, 1, 1, 1, 1, 1, 1]"
      ]
     },
     "execution_count": 61,
     "metadata": {},
     "output_type": "execute_result"
    }
   ],
   "source": [
    "x=[1]*10\n",
    "x"
   ]
  },
  {
   "cell_type": "code",
   "execution_count": 62,
   "id": "f83e5488",
   "metadata": {},
   "outputs": [
    {
     "data": {
      "text/plain": [
       "[1, 2, 3, 4]"
      ]
     },
     "execution_count": 62,
     "metadata": {},
     "output_type": "execute_result"
    }
   ],
   "source": [
    "x=[1]\n",
    "x= x + [2]\n",
    "x= x + [3]\n",
    "x= x + [4]\n",
    "x"
   ]
  },
  {
   "cell_type": "code",
   "execution_count": 63,
   "id": "61f6fe7d",
   "metadata": {},
   "outputs": [
    {
     "data": {
      "text/plain": [
       "[1, 2, 3, 4]"
      ]
     },
     "execution_count": 63,
     "metadata": {},
     "output_type": "execute_result"
    }
   ],
   "source": [
    "x=[1]\n",
    "x+= [2]\n",
    "x+= [3]\n",
    "x+= [4]\n",
    "x"
   ]
  },
  {
   "cell_type": "code",
   "execution_count": 64,
   "id": "7af066df",
   "metadata": {},
   "outputs": [
    {
     "data": {
      "text/plain": [
       "[1, 2, 3, 4]"
      ]
     },
     "execution_count": 64,
     "metadata": {},
     "output_type": "execute_result"
    }
   ],
   "source": [
    "x=[1]\n",
    "x+= [2, 3, 4]\n",
    "x"
   ]
  },
  {
   "cell_type": "code",
   "execution_count": 65,
   "id": "5ca28a9e",
   "metadata": {},
   "outputs": [
    {
     "data": {
      "text/plain": [
       "[2, 3, 4, 1]"
      ]
     },
     "execution_count": 65,
     "metadata": {},
     "output_type": "execute_result"
    }
   ],
   "source": [
    "x=[1]\n",
    "x= [2, 3, 4] + x\n",
    "x"
   ]
  },
  {
   "cell_type": "code",
   "execution_count": 66,
   "id": "a121c46f",
   "metadata": {},
   "outputs": [
    {
     "data": {
      "text/plain": [
       "[1, 2, 3, 4]"
      ]
     },
     "execution_count": 66,
     "metadata": {},
     "output_type": "execute_result"
    }
   ],
   "source": [
    "x=[1]\n",
    "x.append(2)\n",
    "x.append(3)\n",
    "x.append(4)\n",
    "x"
   ]
  },
  {
   "cell_type": "markdown",
   "id": "4694e0b0",
   "metadata": {},
   "source": [
    "## 2 Some loose ends"
   ]
  },
  {
   "cell_type": "markdown",
   "id": "775970df",
   "metadata": {},
   "source": [
    "### 2.1 Tuples"
   ]
  },
  {
   "cell_type": "code",
   "execution_count": 83,
   "id": "2129c1d2",
   "metadata": {},
   "outputs": [
    {
     "name": "stdout",
     "output_type": "stream",
     "text": [
      "1\n"
     ]
    }
   ],
   "source": [
    "a=(1, 2, 3)     # Define tuple\n",
    "print(a[0])    # Access data\n",
    "\n",
    "# The following will NOT work because cannot change tuple after creation\n",
    "# a[0] = -1\n",
    "# a[0] += [10]"
   ]
  },
  {
   "cell_type": "markdown",
   "id": "8068ec19",
   "metadata": {},
   "source": [
    "### 2.2 Be VERY careful when copying"
   ]
  },
  {
   "cell_type": "code",
   "execution_count": 85,
   "id": "0f8706a0",
   "metadata": {},
   "outputs": [],
   "source": [
    "x=[1, 2, 3]\n",
    "y=x           # DON'T do this!\n",
    "z=x           # DON'T do this!"
   ]
  },
  {
   "cell_type": "code",
   "execution_count": 84,
   "id": "3b2dc7f9",
   "metadata": {},
   "outputs": [],
   "source": [
    "x=[1, 2, 3]\n",
    "y=x.copy()\n",
    "z=x.copy()"
   ]
  },
  {
   "cell_type": "markdown",
   "id": "465bd7e3",
   "metadata": {},
   "source": [
    "## Exercise 1 :  Total recall?"
   ]
  },
  {
   "cell_type": "markdown",
   "id": "4f28bd23",
   "metadata": {},
   "source": [
    "|Term|Brief description|\n",
    "|:-|:-|\n",
    "|Subsetting|Selecting values (_data_) from a list/array|\n",
    "|Indexing|Retrieving one value (_element_) from the list/array|\n",
    "|Slicing|Retrieving a range of values (_element_) from the list/array|\n",
    "|Masking|Filtering a list/array by making use of rules and boolean (_to only show the elements which are __true___)|"
   ]
  },
  {
   "cell_type": "markdown",
   "id": "abdc3a08",
   "metadata": {},
   "source": [
    "## Exercise 2 :  Show me the ‘odd’ letters"
   ]
  },
  {
   "cell_type": "code",
   "execution_count": 105,
   "id": "3b724551",
   "metadata": {},
   "outputs": [
    {
     "name": "stdout",
     "output_type": "stream",
     "text": [
      "[ 1  3  2  4  5  7  6  8 10  9]\n",
      "[1 1 0 0 1 1 0 0 0 1]\n",
      "[ True  True False False  True  True False False False  True]\n"
     ]
    },
    {
     "data": {
      "text/plain": [
       "array(['A', 'C', 'E', 'G', 'I'], dtype='<U11')"
      ]
     },
     "execution_count": 105,
     "metadata": {},
     "output_type": "execute_result"
    }
   ],
   "source": [
    "np_array_2d = np.array([[1, \"A\"], [3, \"C\"], [2, \"B\"], [4, \"D\"],\n",
    "                        [5, \"E\"], [7, \"G\"], [6, \"F\"], [8, \"H\"],\n",
    "                        [10, \"J\"], [9, \"I\"]])\n",
    "\n",
    "np_array_numbers = np_array_2d[:,0].astype(int)\n",
    "print(np_array_numbers)\n",
    "\n",
    "np_array_odd = np_array_numbers%2\n",
    "print(np_array_odd)\n",
    "\n",
    "np_array_mask = np_array_odd == 1\n",
    "print(np_array_mask)\n",
    "\n",
    "np_array_2d[np_array_mask,1]"
   ]
  },
  {
   "cell_type": "code",
   "execution_count": 14,
   "id": "76c46866",
   "metadata": {},
   "outputs": [
    {
     "data": {
      "text/plain": [
       "array(['A', 'C', 'E', 'G', 'I'], dtype='<U11')"
      ]
     },
     "execution_count": 14,
     "metadata": {},
     "output_type": "execute_result"
    }
   ],
   "source": [
    "np_array_2d[(np_array_2d[:,0].astype(int)%2)==1,1]"
   ]
  },
  {
   "cell_type": "code",
   "execution_count": 11,
   "id": "e6356d11",
   "metadata": {},
   "outputs": [
    {
     "data": {
      "text/plain": [
       "['A', 'C', 'E', 'G', 'I']"
      ]
     },
     "execution_count": 11,
     "metadata": {},
     "output_type": "execute_result"
    }
   ],
   "source": [
    "np_array_2d = np.array([[1, \"A\"], [3, \"C\"], [2, \"B\"], [4, \"D\"],\n",
    "                        [5, \"E\"], [7, \"G\"], [6, \"F\"], [8, \"H\"],\n",
    "                        [10, \"J\"], [9, \"I\"]])\n",
    "\n",
    "[x[1] for x in np_array_2d if x[0].astype(int)%2==1]"
   ]
  }
 ],
 "metadata": {
  "kernelspec": {
   "display_name": "Python 3 (ipykernel)",
   "language": "python",
   "name": "python3"
  },
  "language_info": {
   "codemirror_mode": {
    "name": "ipython",
    "version": 3
   },
   "file_extension": ".py",
   "mimetype": "text/x-python",
   "name": "python",
   "nbconvert_exporter": "python",
   "pygments_lexer": "ipython3",
   "version": "3.10.8"
  },
  "toc": {
   "base_numbering": 1,
   "nav_menu": {},
   "number_sections": true,
   "sideBar": true,
   "skip_h1_title": false,
   "title_cell": "Table of Contents",
   "title_sidebar": "Contents",
   "toc_cell": false,
   "toc_position": {},
   "toc_section_display": true,
   "toc_window_display": false
  },
  "varInspector": {
   "cols": {
    "lenName": 16,
    "lenType": 16,
    "lenVar": 40
   },
   "kernels_config": {
    "python": {
     "delete_cmd_postfix": "",
     "delete_cmd_prefix": "del ",
     "library": "var_list.py",
     "varRefreshCmd": "print(var_dic_list())"
    },
    "r": {
     "delete_cmd_postfix": ") ",
     "delete_cmd_prefix": "rm(",
     "library": "var_list.r",
     "varRefreshCmd": "cat(var_dic_list()) "
    }
   },
   "types_to_exclude": [
    "module",
    "function",
    "builtin_function_or_method",
    "instance",
    "_Feature"
   ],
   "window_display": false
  },
  "vscode": {
   "interpreter": {
    "hash": "31f2aee4e71d21fbe5cf8b01ff0e069b9275f58929596ceb00d14d90e3e16cd6"
   }
  }
 },
 "nbformat": 4,
 "nbformat_minor": 5
}
