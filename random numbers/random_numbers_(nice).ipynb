{
 "cells": [
  {
   "cell_type": "markdown",
   "id": "123456",
   "metadata": {},
   "source": [
    "<div style=\"text-align:left;font-size:2em\"><span style=\"font-weight:bolder;font-size:1.25em\">SP2273 | Learning Portfolio</span><br><br><span style=\"font-weight:bold;color:darkred\">Random Numbers (Nice)</span></div>"
   ]
  },
  {
   "cell_type": "markdown",
   "id": "84bb4045",
   "metadata": {},
   "source": [
    "## 1 MC strategy for integration"
   ]
  },
  {
   "cell_type": "code",
   "execution_count": 2,
   "id": "1b1603af",
   "metadata": {},
   "outputs": [],
   "source": [
    "import numpy as np\n",
    "import matplotlib.pyplot as plt"
   ]
  },
  {
   "cell_type": "markdown",
   "id": "4b8ef086",
   "metadata": {},
   "source": [
    "## Explore 1 :  Monte Carlo Integration"
   ]
  },
  {
   "cell_type": "code",
   "execution_count": 15,
   "id": "9ac715f9",
   "metadata": {},
   "outputs": [
    {
     "name": "stdout",
     "output_type": "stream",
     "text": [
      "4.06459458\n"
     ]
    }
   ],
   "source": [
    "# f(x)=X^2sin^2(2x)\n",
    "\n",
    "n_all = 100_000_000\n",
    "\n",
    "x=np.random.uniform(low=2,high=3,size=n_all)\n",
    "y=np.random.uniform(low=0,high=6,size=n_all)\n",
    "\n",
    "fx = x**2*np.sin(2*x)**2\n",
    "n_below=np.sum(y<=fx)\n",
    "\n",
    "blue = (n_below/n_all)*6    # 6 because gray area is (3-1)*(6-0)\n",
    "\n",
    "print(blue)    # actual value is 4.0647"
   ]
  },
  {
   "cell_type": "markdown",
   "id": "f5081515",
   "metadata": {},
   "source": [
    "## 2 Another MC strategy for integration"
   ]
  },
  {
   "cell_type": "markdown",
   "id": "ef9c192b",
   "metadata": {},
   "source": [
    "### 2.1 Some theory"
   ]
  },
  {
   "cell_type": "code",
   "execution_count": null,
   "id": "4aa45d79",
   "metadata": {},
   "outputs": [],
   "source": [
    "\n",
    "# Your code here\n"
   ]
  },
  {
   "cell_type": "markdown",
   "id": "204eab44",
   "metadata": {},
   "source": [
    "## Explore 2 :  Integration with an estimator"
   ]
  }
 ],
 "metadata": {
  "kernelspec": {
   "display_name": "Python 3 (ipykernel)",
   "language": "python",
   "name": "python3"
  },
  "language_info": {
   "codemirror_mode": {
    "name": "ipython",
    "version": 3
   },
   "file_extension": ".py",
   "mimetype": "text/x-python",
   "name": "python",
   "nbconvert_exporter": "python",
   "pygments_lexer": "ipython3",
   "version": "3.10.8"
  },
  "toc": {
   "base_numbering": 1,
   "nav_menu": {},
   "number_sections": true,
   "sideBar": true,
   "skip_h1_title": false,
   "title_cell": "Table of Contents",
   "title_sidebar": "Contents",
   "toc_cell": false,
   "toc_position": {},
   "toc_section_display": true,
   "toc_window_display": false
  },
  "varInspector": {
   "cols": {
    "lenName": 16,
    "lenType": 16,
    "lenVar": 40
   },
   "kernels_config": {
    "python": {
     "delete_cmd_postfix": "",
     "delete_cmd_prefix": "del ",
     "library": "var_list.py",
     "varRefreshCmd": "print(var_dic_list())"
    },
    "r": {
     "delete_cmd_postfix": ") ",
     "delete_cmd_prefix": "rm(",
     "library": "var_list.r",
     "varRefreshCmd": "cat(var_dic_list()) "
    }
   },
   "types_to_exclude": [
    "module",
    "function",
    "builtin_function_or_method",
    "instance",
    "_Feature"
   ],
   "window_display": false
  },
  "vscode": {
   "interpreter": {
    "hash": "31f2aee4e71d21fbe5cf8b01ff0e069b9275f58929596ceb00d14d90e3e16cd6"
   }
  }
 },
 "nbformat": 4,
 "nbformat_minor": 5
}
