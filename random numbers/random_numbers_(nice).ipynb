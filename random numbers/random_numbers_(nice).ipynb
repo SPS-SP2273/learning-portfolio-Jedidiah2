{
 "cells": [
  {
   "cell_type": "markdown",
   "id": "123456",
   "metadata": {},
   "source": [
    "<div style=\"text-align:left;font-size:2em\"><span style=\"font-weight:bolder;font-size:1.25em\">SP2273 | Learning Portfolio</span><br><br><span style=\"font-weight:bold;color:darkred\">Random Numbers (Nice)</span></div>"
   ]
  },
  {
   "cell_type": "markdown",
   "id": "84bb4045",
   "metadata": {},
   "source": [
    "## 1 MC strategy for integration"
   ]
  },
  {
   "cell_type": "code",
   "execution_count": 2,
   "id": "094fb263",
   "metadata": {},
   "outputs": [],
   "source": [
    "import numpy as np\n",
    "import matplotlib.pyplot as plt"
   ]
  },
  {
   "cell_type": "markdown",
   "id": "4b8ef086",
   "metadata": {},
   "source": [
    "## Explore 1 :  Monte Carlo Integration"
   ]
  },
  {
   "cell_type": "code",
   "execution_count": 24,
   "id": "a7c1d612",
   "metadata": {},
   "outputs": [
    {
     "name": "stdout",
     "output_type": "stream",
     "text": [
      "4.0648998\n"
     ]
    }
   ],
   "source": [
    "# f(x)=X^2sin^2(2x)\n",
    "\n",
    "n_all = 10_000_000\n",
    "\n",
    "x=np.random.uniform(low=2,high=3,size=n_all)\n",
    "y=np.random.uniform(low=0,high=6,size=n_all)\n",
    "\n",
    "fx = x**2*np.sin(2*x)**2\n",
    "n_below=np.sum(y<=fx)\n",
    "\n",
    "blue = (n_below/n_all)*6    # 6 because gray area is (3-1)*(6-0)\n",
    "\n",
    "print(blue)    # actual value is 4.0647"
   ]
  },
  {
   "cell_type": "markdown",
   "id": "f5081515",
   "metadata": {},
   "source": [
    "## 2 Another MC strategy for integration"
   ]
  },
  {
   "cell_type": "markdown",
   "id": "ef9c192b",
   "metadata": {},
   "source": [
    "### 2.1 Some theory"
   ]
  },
  {
   "cell_type": "code",
   "execution_count": 20,
   "id": "4aa45d79",
   "metadata": {},
   "outputs": [],
   "source": [
    "\n",
    "# Your code here\n"
   ]
  },
  {
   "cell_type": "markdown",
   "id": "204eab44",
   "metadata": {},
   "source": [
    "## Explore 2 :  Integration with an estimator"
   ]
  },
  {
   "cell_type": "code",
   "execution_count": 25,
   "id": "dddb761f",
   "metadata": {},
   "outputs": [
    {
     "name": "stdout",
     "output_type": "stream",
     "text": [
      "4.064642151270671\n"
     ]
    }
   ],
   "source": [
    "a = 2\n",
    "b = 3\n",
    "N = 10_000_000\n",
    "\n",
    "x = np.random.uniform(low=a,high=b,size=N)\n",
    "fx = x**2*np.sin(2*x)**2\n",
    "area = (b-a)*(1/N)*np.sum(fx)\n",
    "print(area)"
   ]
  },
  {
   "cell_type": "code",
   "execution_count": 26,
   "id": "54ea34cb",
   "metadata": {},
   "outputs": [
    {
     "name": "stdout",
     "output_type": "stream",
     "text": [
      "4.0640826\n",
      "4.0644504\n",
      "4.0652298\n",
      "4.0626456\n",
      "4.0652526\n",
      "4.064856600000001\n",
      "4.0656137999999995\n",
      "4.0658742\n",
      "755 ms ± 27 ms per loop (mean ± std. dev. of 7 runs, 1 loop each)\n"
     ]
    }
   ],
   "source": [
    "%%timeit\n",
    "\n",
    "n_all = 10_000_000\n",
    "\n",
    "x=np.random.uniform(low=2,high=3,size=n_all)\n",
    "y=np.random.uniform(low=0,high=6,size=n_all)\n",
    "\n",
    "fx = x**2*np.sin(2*x)**2\n",
    "n_below=np.sum(y<=fx)\n",
    "\n",
    "blue = (n_below/n_all)*6\n",
    "\n",
    "print(blue)"
   ]
  },
  {
   "cell_type": "code",
   "execution_count": 27,
   "id": "e8a7790e",
   "metadata": {},
   "outputs": [
    {
     "name": "stdout",
     "output_type": "stream",
     "text": [
      "4.064838035803971\n",
      "4.064825192693389\n",
      "4.064630147599315\n",
      "4.064406005395533\n",
      "4.064430932583781\n",
      "4.065261347266021\n",
      "4.064719552036428\n",
      "4.064508216811207\n",
      "573 ms ± 14.6 ms per loop (mean ± std. dev. of 7 runs, 1 loop each)\n"
     ]
    }
   ],
   "source": [
    "%%timeit\n",
    "\n",
    "N = 10_000_000\n",
    "\n",
    "x = np.random.uniform(low=2,high=3,size=N)\n",
    "\n",
    "fx = x**2*np.sin(2*x)**2\n",
    "\n",
    "area = (3-2)*(1/N)*np.sum(fx)\n",
    "\n",
    "print(area)"
   ]
  }
 ],
 "metadata": {
  "kernelspec": {
   "display_name": "Python 3 (ipykernel)",
   "language": "python",
   "name": "python3"
  },
  "language_info": {
   "codemirror_mode": {
    "name": "ipython",
    "version": 3
   },
   "file_extension": ".py",
   "mimetype": "text/x-python",
   "name": "python",
   "nbconvert_exporter": "python",
   "pygments_lexer": "ipython3",
   "version": "3.10.8"
  },
  "toc": {
   "base_numbering": 1,
   "nav_menu": {},
   "number_sections": true,
   "sideBar": true,
   "skip_h1_title": false,
   "title_cell": "Table of Contents",
   "title_sidebar": "Contents",
   "toc_cell": false,
   "toc_position": {},
   "toc_section_display": true,
   "toc_window_display": false
  },
  "varInspector": {
   "cols": {
    "lenName": 16,
    "lenType": 16,
    "lenVar": 40
   },
   "kernels_config": {
    "python": {
     "delete_cmd_postfix": "",
     "delete_cmd_prefix": "del ",
     "library": "var_list.py",
     "varRefreshCmd": "print(var_dic_list())"
    },
    "r": {
     "delete_cmd_postfix": ") ",
     "delete_cmd_prefix": "rm(",
     "library": "var_list.r",
     "varRefreshCmd": "cat(var_dic_list()) "
    }
   },
   "types_to_exclude": [
    "module",
    "function",
    "builtin_function_or_method",
    "instance",
    "_Feature"
   ],
   "window_display": false
  },
  "vscode": {
   "interpreter": {
    "hash": "31f2aee4e71d21fbe5cf8b01ff0e069b9275f58929596ceb00d14d90e3e16cd6"
   }
  }
 },
 "nbformat": 4,
 "nbformat_minor": 5
}
